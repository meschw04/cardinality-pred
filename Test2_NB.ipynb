{
 "cells": [
  {
   "cell_type": "code",
   "execution_count": 1,
   "metadata": {},
   "outputs": [],
   "source": [
    "from cardinality_data_read import *\n",
    "import pandas as pd\n",
    "import numpy as np\n",
    "import matplotlib.pyplot as plt\n",
    "%matplotlib inline"
   ]
  },
  {
   "cell_type": "code",
   "execution_count": 2,
   "metadata": {},
   "outputs": [
    {
     "name": "stdout",
     "output_type": "stream",
     "text": [
      "0 ['a', 'd', 'e', 'f', 'g', 'i', 'j', 'l', 'n', 't', 'u', 'w', 'x', 'aa', 'bb', 'cc', 'dd']\n",
      "1 ['c', 'd', 'm', 'o', 'p', 'x', 'y', 'aa', 'bb', 'cc', 'dd']\n",
      "2 ['a', 'c', 'f', 'g', 'h', 'j', 'k', 'm', 'n', 'o', 's', 't', 'x', 'z']\n",
      "3 ['e', 'g', 'l', 'm', 'o', 'p', 't', 'v']\n",
      "4 ['a', 'd', 'f', 'h', 'i', 'j', 'm', 'n', 'q', 'r', 's', 'u', 'v', 'w', 'z']\n"
     ]
    }
   ],
   "source": [
    "#TEMPORARY TEST OF CLASS!\n",
    "attributes = ['a','b','c','d','e','f','g','h','i','j','k','l','m','n',\\\n",
    "              'o','p','q','r','s','t','u','v','w','x','y','z']\n",
    "#Build data for each attribute, start by picking either Normal or U dists\n",
    "dist_select = np.random.choice([0,1],len(attributes))\n",
    "\n",
    "all_data = []\n",
    "data_points_count = 10**3\n",
    "for i in dist_select:\n",
    "    if i: #Use a Gaussian distribution\n",
    "        mean = np.random.uniform(-100,100,1)[0]\n",
    "        stdev = np.random.uniform(10,50,1)[0]\n",
    "        all_data.append(np.random.normal(mean,stdev,data_points_count))\n",
    "    else:\n",
    "        bounds = np.random.uniform(-1000,1000,2)\n",
    "        lower = min(bounds)\n",
    "        upper = max(bounds)\n",
    "        all_data.append(np.random.uniform(lower,upper,data_points_count))\n",
    "\n",
    "full_df = pd.DataFrame(np.array(all_data).T,columns=attributes)\n",
    "#full_df.describe()\n",
    "\n",
    "table_attrs = []\n",
    "num_tables = 5\n",
    "tables_dict = {}\n",
    "for i in range(num_tables):\n",
    "    #Pick random number of attrs in table\n",
    "    num_attrs = np.random.choice(range(6,16),1)[0]\n",
    "    selected_attrs = sorted(np.random.choice(attributes,num_attrs,replace=False))\n",
    "    table_attrs.append(selected_attrs)\n",
    "    tables_dict[i]=full_df[selected_attrs]\n",
    "\n",
    "t = tables_dict[0].copy()\n",
    "t['aa']=np.random.choice(range(1,11),len(t))\n",
    "t['bb']=np.random.choice([True,False],len(t))\n",
    "t['cc']=np.random.choice(['test_'+str(i) for i in range(100)],len(t))\n",
    "t['dd']=np.random.choice(['test2_'+str(i) for i in range(10)],len(t))\n",
    "tables_dict[0]=t\n",
    "\n",
    "t = tables_dict[1].copy()\n",
    "t['aa']=np.random.choice(range(1,11),len(t))\n",
    "t['bb']=np.random.choice([True,False],len(t))\n",
    "t['cc']=np.random.choice(['test_'+str(i) for i in range(100)],len(t))\n",
    "t['dd']=np.random.choice(['test2_'+str(i) for i in range(10)],len(t))\n",
    "tables_dict[1]=t\n",
    "\n",
    "for i in tables_dict.keys():\n",
    "    print(i,tables_dict[i].columns.tolist())"
   ]
  },
  {
   "cell_type": "code",
   "execution_count": 3,
   "metadata": {},
   "outputs": [
    {
     "name": "stdout",
     "output_type": "stream",
     "text": [
      "All Table Names:\n",
      "['0' '1' '2' '3' '4']\n",
      "\n",
      "All Enumerated Joins:\n",
      "['join-attr-0.aa-to-1.aa' 'join-attr-0.bb-to-1.bb'\n",
      " 'join-attr-0.cc-to-1.cc' 'join-attr-0.d-to-1.d' 'join-attr-0.dd-to-1.dd'\n",
      " 'join-attr-0.x-to-1.x' 'join-attr-0.a-to-2.a' 'join-attr-0.f-to-2.f'\n",
      " 'join-attr-0.g-to-2.g' 'join-attr-0.j-to-2.j' 'join-attr-0.n-to-2.n'\n",
      " 'join-attr-0.t-to-2.t' 'join-attr-0.x-to-2.x' 'join-attr-0.e-to-3.e'\n",
      " 'join-attr-0.g-to-3.g' 'join-attr-0.l-to-3.l' 'join-attr-0.t-to-3.t'\n",
      " 'join-attr-0.a-to-4.a' 'join-attr-0.d-to-4.d' 'join-attr-0.f-to-4.f'\n",
      " 'join-attr-0.i-to-4.i' 'join-attr-0.j-to-4.j' 'join-attr-0.n-to-4.n'\n",
      " 'join-attr-0.u-to-4.u' 'join-attr-0.w-to-4.w' 'join-attr-1.c-to-2.c'\n",
      " 'join-attr-1.m-to-2.m' 'join-attr-1.o-to-2.o' 'join-attr-1.x-to-2.x'\n",
      " 'join-attr-1.m-to-3.m' 'join-attr-1.o-to-3.o' 'join-attr-1.p-to-3.p'\n",
      " 'join-attr-1.d-to-4.d' 'join-attr-1.m-to-4.m' 'join-attr-2.g-to-3.g'\n",
      " 'join-attr-2.m-to-3.m' 'join-attr-2.o-to-3.o' 'join-attr-2.t-to-3.t'\n",
      " 'join-attr-2.a-to-4.a' 'join-attr-2.f-to-4.f' 'join-attr-2.h-to-4.h'\n",
      " 'join-attr-2.j-to-4.j' 'join-attr-2.m-to-4.m' 'join-attr-2.n-to-4.n'\n",
      " 'join-attr-2.s-to-4.s' 'join-attr-2.z-to-4.z' 'join-attr-3.m-to-4.m'\n",
      " 'join-attr-3.v-to-4.v']\n",
      "\n",
      "Numerical Predicate Space:\n",
      "['0.a' '0.d' '0.e' '0.f' '0.g' '0.i' '0.j' '0.l' '0.n' '0.t' '0.u' '0.w'\n",
      " '0.x' '0.aa' '0.bb' '1.c' '1.d' '1.m' '1.o' '1.p' '1.x' '1.y' '1.aa'\n",
      " '1.bb' '2.a' '2.c' '2.f' '2.g' '2.h' '2.j' '2.k' '2.m' '2.n' '2.o' '2.s'\n",
      " '2.t' '2.x' '2.z' '3.e' '3.g' '3.l' '3.m' '3.o' '3.p' '3.t' '3.v' '4.a'\n",
      " '4.d' '4.f' '4.h' '4.i' '4.j' '4.m' '4.n' '4.q' '4.r' '4.s' '4.u' '4.v'\n",
      " '4.w' '4.z' '<' '>' '=' 'NORMALIZED_NUM']\n",
      "\n",
      "Non-Numerical Predicate Space:\n",
      "['0.cc' '0.dd' '1.cc' '1.dd' 'HASHED_INT' 'E_BALL']\n",
      "\n"
     ]
    },
    {
     "ename": "KeyError",
     "evalue": "'aa'",
     "output_type": "error",
     "traceback": [
      "\u001b[0;31m---------------------------------------------------------------------------\u001b[0m",
      "\u001b[0;31mKeyError\u001b[0m                                  Traceback (most recent call last)",
      "\u001b[0;32m~/anaconda3/lib/python3.7/site-packages/pandas/core/indexes/base.py\u001b[0m in \u001b[0;36mget_loc\u001b[0;34m(self, key, method, tolerance)\u001b[0m\n\u001b[1;32m   2896\u001b[0m             \u001b[0;32mtry\u001b[0m\u001b[0;34m:\u001b[0m\u001b[0;34m\u001b[0m\u001b[0;34m\u001b[0m\u001b[0m\n\u001b[0;32m-> 2897\u001b[0;31m                 \u001b[0;32mreturn\u001b[0m \u001b[0mself\u001b[0m\u001b[0;34m.\u001b[0m\u001b[0m_engine\u001b[0m\u001b[0;34m.\u001b[0m\u001b[0mget_loc\u001b[0m\u001b[0;34m(\u001b[0m\u001b[0mkey\u001b[0m\u001b[0;34m)\u001b[0m\u001b[0;34m\u001b[0m\u001b[0;34m\u001b[0m\u001b[0m\n\u001b[0m\u001b[1;32m   2898\u001b[0m             \u001b[0;32mexcept\u001b[0m \u001b[0mKeyError\u001b[0m\u001b[0;34m:\u001b[0m\u001b[0;34m\u001b[0m\u001b[0;34m\u001b[0m\u001b[0m\n",
      "\u001b[0;32mpandas/_libs/index.pyx\u001b[0m in \u001b[0;36mpandas._libs.index.IndexEngine.get_loc\u001b[0;34m()\u001b[0m\n",
      "\u001b[0;32mpandas/_libs/index.pyx\u001b[0m in \u001b[0;36mpandas._libs.index.IndexEngine.get_loc\u001b[0;34m()\u001b[0m\n",
      "\u001b[0;32mpandas/_libs/hashtable_class_helper.pxi\u001b[0m in \u001b[0;36mpandas._libs.hashtable.PyObjectHashTable.get_item\u001b[0;34m()\u001b[0m\n",
      "\u001b[0;32mpandas/_libs/hashtable_class_helper.pxi\u001b[0m in \u001b[0;36mpandas._libs.hashtable.PyObjectHashTable.get_item\u001b[0;34m()\u001b[0m\n",
      "\u001b[0;31mKeyError\u001b[0m: 'aa'",
      "\nDuring handling of the above exception, another exception occurred:\n",
      "\u001b[0;31mKeyError\u001b[0m                                  Traceback (most recent call last)",
      "\u001b[0;32m<ipython-input-3-045f3ec11e1d>\u001b[0m in \u001b[0;36m<module>\u001b[0;34m\u001b[0m\n\u001b[1;32m      4\u001b[0m \u001b[0;34m\u001b[0m\u001b[0m\n\u001b[1;32m      5\u001b[0m \u001b[0mcard_test\u001b[0m\u001b[0;34m.\u001b[0m\u001b[0mfeaturize_space\u001b[0m\u001b[0;34m(\u001b[0m\u001b[0mverbose\u001b[0m\u001b[0;34m=\u001b[0m\u001b[0;32mTrue\u001b[0m\u001b[0;34m)\u001b[0m\u001b[0;34m\u001b[0m\u001b[0;34m\u001b[0m\u001b[0m\n\u001b[0;32m----> 6\u001b[0;31m \u001b[0mX\u001b[0m\u001b[0;34m,\u001b[0m \u001b[0my\u001b[0m \u001b[0;34m=\u001b[0m \u001b[0mcard_test\u001b[0m\u001b[0;34m.\u001b[0m\u001b[0mgenerate_N_queries\u001b[0m\u001b[0;34m(\u001b[0m\u001b[0;36m50\u001b[0m\u001b[0;34m,\u001b[0m\u001b[0mflatten\u001b[0m\u001b[0;34m=\u001b[0m\u001b[0;32mFalse\u001b[0m\u001b[0;34m)\u001b[0m\u001b[0;34m\u001b[0m\u001b[0;34m\u001b[0m\u001b[0m\n\u001b[0m",
      "\u001b[0;32m~/cardinality-pred/cardinality_data_read.py\u001b[0m in \u001b[0;36mgenerate_N_queries\u001b[0;34m(self, n, flatten)\u001b[0m\n\u001b[1;32m    347\u001b[0m         \u001b[0mall_card_fracs\u001b[0m \u001b[0;34m=\u001b[0m \u001b[0;34m[\u001b[0m\u001b[0;34m]\u001b[0m\u001b[0;34m\u001b[0m\u001b[0;34m\u001b[0m\u001b[0m\n\u001b[1;32m    348\u001b[0m         \u001b[0;32mwhile\u001b[0m \u001b[0mlen\u001b[0m\u001b[0;34m(\u001b[0m\u001b[0mall_queries\u001b[0m\u001b[0;34m)\u001b[0m\u001b[0;34m!=\u001b[0m\u001b[0mn\u001b[0m\u001b[0;34m:\u001b[0m\u001b[0;34m\u001b[0m\u001b[0;34m\u001b[0m\u001b[0m\n\u001b[0;32m--> 349\u001b[0;31m             \u001b[0mquery\u001b[0m\u001b[0;34m,\u001b[0m \u001b[0mfrac\u001b[0m\u001b[0;34m,\u001b[0m \u001b[0mfull_len\u001b[0m \u001b[0;34m=\u001b[0m \u001b[0mself\u001b[0m\u001b[0;34m.\u001b[0m\u001b[0mgenerate_random_query\u001b[0m\u001b[0;34m(\u001b[0m\u001b[0mflatten\u001b[0m\u001b[0;34m)\u001b[0m\u001b[0;34m\u001b[0m\u001b[0;34m\u001b[0m\u001b[0m\n\u001b[0m\u001b[1;32m    350\u001b[0m             \u001b[0;32mif\u001b[0m \u001b[0mfull_len\u001b[0m\u001b[0;34m!=\u001b[0m\u001b[0;36m0\u001b[0m\u001b[0;34m:\u001b[0m\u001b[0;34m\u001b[0m\u001b[0;34m\u001b[0m\u001b[0m\n\u001b[1;32m    351\u001b[0m                 \u001b[0mall_queries\u001b[0m\u001b[0;34m.\u001b[0m\u001b[0mappend\u001b[0m\u001b[0;34m(\u001b[0m\u001b[0mquery\u001b[0m\u001b[0;34m)\u001b[0m\u001b[0;34m\u001b[0m\u001b[0;34m\u001b[0m\u001b[0m\n",
      "\u001b[0;32m~/cardinality-pred/cardinality_data_read.py\u001b[0m in \u001b[0;36mgenerate_random_query\u001b[0;34m(self, flatten)\u001b[0m\n\u001b[1;32m    332\u001b[0m         final_query_flat = np.concatenate((new_table_enc,new_join_enc,\\\n\u001b[1;32m    333\u001b[0m               new_num_predicates_enc,new_str_predicates_enc))\n\u001b[0;32m--> 334\u001b[0;31m         \u001b[0mfinal_card\u001b[0m\u001b[0;34m,\u001b[0m\u001b[0mfull_len\u001b[0m \u001b[0;34m=\u001b[0m \u001b[0mself\u001b[0m\u001b[0;34m.\u001b[0m\u001b[0mrun_query\u001b[0m\u001b[0;34m(\u001b[0m\u001b[0mfinal_query_flat\u001b[0m\u001b[0;34m)\u001b[0m\u001b[0;34m\u001b[0m\u001b[0;34m\u001b[0m\u001b[0m\n\u001b[0m\u001b[1;32m    335\u001b[0m         \u001b[0;32mif\u001b[0m \u001b[0mfull_len\u001b[0m\u001b[0;34m==\u001b[0m\u001b[0;36m0\u001b[0m\u001b[0;34m:\u001b[0m\u001b[0;34m\u001b[0m\u001b[0;34m\u001b[0m\u001b[0m\n\u001b[1;32m    336\u001b[0m             \u001b[0mnorm_card\u001b[0m\u001b[0;34m=\u001b[0m\u001b[0;36m0\u001b[0m\u001b[0;34m\u001b[0m\u001b[0;34m\u001b[0m\u001b[0m\n",
      "\u001b[0;32m~/cardinality-pred/cardinality_data_read.py\u001b[0m in \u001b[0;36mrun_query\u001b[0;34m(self, full_flat_query)\u001b[0m\n\u001b[1;32m    204\u001b[0m                 \u001b[0mpred_val\u001b[0m \u001b[0;34m=\u001b[0m \u001b[0mi\u001b[0m\u001b[0;34m[\u001b[0m\u001b[0;34m-\u001b[0m\u001b[0;36m1\u001b[0m\u001b[0;34m]\u001b[0m\u001b[0;34m\u001b[0m\u001b[0;34m\u001b[0m\u001b[0m\n\u001b[1;32m    205\u001b[0m                 \u001b[0mt_col\u001b[0m \u001b[0;34m=\u001b[0m \u001b[0mself\u001b[0m\u001b[0;34m.\u001b[0m\u001b[0mnum_preds_li\u001b[0m\u001b[0;34m[\u001b[0m\u001b[0mpred_col\u001b[0m\u001b[0;34m]\u001b[0m\u001b[0;34m.\u001b[0m\u001b[0msplit\u001b[0m\u001b[0;34m(\u001b[0m\u001b[0;34m'.'\u001b[0m\u001b[0;34m)\u001b[0m\u001b[0;34m[\u001b[0m\u001b[0;36m1\u001b[0m\u001b[0;34m]\u001b[0m\u001b[0;34m\u001b[0m\u001b[0;34m\u001b[0m\u001b[0m\n\u001b[0;32m--> 206\u001b[0;31m                 \u001b[0;32mif\u001b[0m \u001b[0mres_df\u001b[0m\u001b[0;34m[\u001b[0m\u001b[0mt_col\u001b[0m\u001b[0;34m]\u001b[0m\u001b[0;34m.\u001b[0m\u001b[0mdtype\u001b[0m\u001b[0;34m.\u001b[0m\u001b[0mchar\u001b[0m \u001b[0;34m==\u001b[0m \u001b[0;34m'?'\u001b[0m\u001b[0;34m:\u001b[0m\u001b[0;34m\u001b[0m\u001b[0;34m\u001b[0m\u001b[0m\n\u001b[0m\u001b[1;32m    207\u001b[0m                     \u001b[0mv_min\u001b[0m\u001b[0;34m=\u001b[0m\u001b[0;36m0\u001b[0m\u001b[0;34m\u001b[0m\u001b[0;34m\u001b[0m\u001b[0m\n\u001b[1;32m    208\u001b[0m                     \u001b[0mv_max\u001b[0m\u001b[0;34m=\u001b[0m\u001b[0;36m1\u001b[0m\u001b[0;34m\u001b[0m\u001b[0;34m\u001b[0m\u001b[0m\n",
      "\u001b[0;32m~/anaconda3/lib/python3.7/site-packages/pandas/core/frame.py\u001b[0m in \u001b[0;36m__getitem__\u001b[0;34m(self, key)\u001b[0m\n\u001b[1;32m   2978\u001b[0m             \u001b[0;32mif\u001b[0m \u001b[0mself\u001b[0m\u001b[0;34m.\u001b[0m\u001b[0mcolumns\u001b[0m\u001b[0;34m.\u001b[0m\u001b[0mnlevels\u001b[0m \u001b[0;34m>\u001b[0m \u001b[0;36m1\u001b[0m\u001b[0;34m:\u001b[0m\u001b[0;34m\u001b[0m\u001b[0;34m\u001b[0m\u001b[0m\n\u001b[1;32m   2979\u001b[0m                 \u001b[0;32mreturn\u001b[0m \u001b[0mself\u001b[0m\u001b[0;34m.\u001b[0m\u001b[0m_getitem_multilevel\u001b[0m\u001b[0;34m(\u001b[0m\u001b[0mkey\u001b[0m\u001b[0;34m)\u001b[0m\u001b[0;34m\u001b[0m\u001b[0;34m\u001b[0m\u001b[0m\n\u001b[0;32m-> 2980\u001b[0;31m             \u001b[0mindexer\u001b[0m \u001b[0;34m=\u001b[0m \u001b[0mself\u001b[0m\u001b[0;34m.\u001b[0m\u001b[0mcolumns\u001b[0m\u001b[0;34m.\u001b[0m\u001b[0mget_loc\u001b[0m\u001b[0;34m(\u001b[0m\u001b[0mkey\u001b[0m\u001b[0;34m)\u001b[0m\u001b[0;34m\u001b[0m\u001b[0;34m\u001b[0m\u001b[0m\n\u001b[0m\u001b[1;32m   2981\u001b[0m             \u001b[0;32mif\u001b[0m \u001b[0mis_integer\u001b[0m\u001b[0;34m(\u001b[0m\u001b[0mindexer\u001b[0m\u001b[0;34m)\u001b[0m\u001b[0;34m:\u001b[0m\u001b[0;34m\u001b[0m\u001b[0;34m\u001b[0m\u001b[0m\n\u001b[1;32m   2982\u001b[0m                 \u001b[0mindexer\u001b[0m \u001b[0;34m=\u001b[0m \u001b[0;34m[\u001b[0m\u001b[0mindexer\u001b[0m\u001b[0;34m]\u001b[0m\u001b[0;34m\u001b[0m\u001b[0;34m\u001b[0m\u001b[0m\n",
      "\u001b[0;32m~/anaconda3/lib/python3.7/site-packages/pandas/core/indexes/base.py\u001b[0m in \u001b[0;36mget_loc\u001b[0;34m(self, key, method, tolerance)\u001b[0m\n\u001b[1;32m   2897\u001b[0m                 \u001b[0;32mreturn\u001b[0m \u001b[0mself\u001b[0m\u001b[0;34m.\u001b[0m\u001b[0m_engine\u001b[0m\u001b[0;34m.\u001b[0m\u001b[0mget_loc\u001b[0m\u001b[0;34m(\u001b[0m\u001b[0mkey\u001b[0m\u001b[0;34m)\u001b[0m\u001b[0;34m\u001b[0m\u001b[0;34m\u001b[0m\u001b[0m\n\u001b[1;32m   2898\u001b[0m             \u001b[0;32mexcept\u001b[0m \u001b[0mKeyError\u001b[0m\u001b[0;34m:\u001b[0m\u001b[0;34m\u001b[0m\u001b[0;34m\u001b[0m\u001b[0m\n\u001b[0;32m-> 2899\u001b[0;31m                 \u001b[0;32mreturn\u001b[0m \u001b[0mself\u001b[0m\u001b[0;34m.\u001b[0m\u001b[0m_engine\u001b[0m\u001b[0;34m.\u001b[0m\u001b[0mget_loc\u001b[0m\u001b[0;34m(\u001b[0m\u001b[0mself\u001b[0m\u001b[0;34m.\u001b[0m\u001b[0m_maybe_cast_indexer\u001b[0m\u001b[0;34m(\u001b[0m\u001b[0mkey\u001b[0m\u001b[0;34m)\u001b[0m\u001b[0;34m)\u001b[0m\u001b[0;34m\u001b[0m\u001b[0;34m\u001b[0m\u001b[0m\n\u001b[0m\u001b[1;32m   2900\u001b[0m         \u001b[0mindexer\u001b[0m \u001b[0;34m=\u001b[0m \u001b[0mself\u001b[0m\u001b[0;34m.\u001b[0m\u001b[0mget_indexer\u001b[0m\u001b[0;34m(\u001b[0m\u001b[0;34m[\u001b[0m\u001b[0mkey\u001b[0m\u001b[0;34m]\u001b[0m\u001b[0;34m,\u001b[0m \u001b[0mmethod\u001b[0m\u001b[0;34m=\u001b[0m\u001b[0mmethod\u001b[0m\u001b[0;34m,\u001b[0m \u001b[0mtolerance\u001b[0m\u001b[0;34m=\u001b[0m\u001b[0mtolerance\u001b[0m\u001b[0;34m)\u001b[0m\u001b[0;34m\u001b[0m\u001b[0;34m\u001b[0m\u001b[0m\n\u001b[1;32m   2901\u001b[0m         \u001b[0;32mif\u001b[0m \u001b[0mindexer\u001b[0m\u001b[0;34m.\u001b[0m\u001b[0mndim\u001b[0m \u001b[0;34m>\u001b[0m \u001b[0;36m1\u001b[0m \u001b[0;32mor\u001b[0m \u001b[0mindexer\u001b[0m\u001b[0;34m.\u001b[0m\u001b[0msize\u001b[0m \u001b[0;34m>\u001b[0m \u001b[0;36m1\u001b[0m\u001b[0;34m:\u001b[0m\u001b[0;34m\u001b[0m\u001b[0;34m\u001b[0m\u001b[0m\n",
      "\u001b[0;32mpandas/_libs/index.pyx\u001b[0m in \u001b[0;36mpandas._libs.index.IndexEngine.get_loc\u001b[0;34m()\u001b[0m\n",
      "\u001b[0;32mpandas/_libs/index.pyx\u001b[0m in \u001b[0;36mpandas._libs.index.IndexEngine.get_loc\u001b[0;34m()\u001b[0m\n",
      "\u001b[0;32mpandas/_libs/hashtable_class_helper.pxi\u001b[0m in \u001b[0;36mpandas._libs.hashtable.PyObjectHashTable.get_item\u001b[0;34m()\u001b[0m\n",
      "\u001b[0;32mpandas/_libs/hashtable_class_helper.pxi\u001b[0m in \u001b[0;36mpandas._libs.hashtable.PyObjectHashTable.get_item\u001b[0;34m()\u001b[0m\n",
      "\u001b[0;31mKeyError\u001b[0m: 'aa'"
     ]
    }
   ],
   "source": [
    "card_test = Card_Dataset()\n",
    "for i in tables_dict.keys():\n",
    "    card_test.add_table(tables_dict[i],name=str(i))\n",
    "\n",
    "card_test.featurize_space(verbose=True)\n",
    "X, y = card_test.generate_N_queries(50,flatten=False)"
   ]
  },
  {
   "cell_type": "code",
   "execution_count": null,
   "metadata": {},
   "outputs": [],
   "source": []
  }
 ],
 "metadata": {
  "kernelspec": {
   "display_name": "Python 3",
   "language": "python",
   "name": "python3"
  },
  "language_info": {
   "codemirror_mode": {
    "name": "ipython",
    "version": 3
   },
   "file_extension": ".py",
   "mimetype": "text/x-python",
   "name": "python",
   "nbconvert_exporter": "python",
   "pygments_lexer": "ipython3",
   "version": "3.7.4"
  }
 },
 "nbformat": 4,
 "nbformat_minor": 2
}
