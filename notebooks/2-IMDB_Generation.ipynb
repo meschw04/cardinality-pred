{
 "cells": [
  {
   "cell_type": "markdown",
   "metadata": {},
   "source": [
    "# 2 - Basic Learning on the IMDB Database\n",
    "*By Marcus Schwarting and Andronicus Samsundar Rajasukumar*\n",
    "\n",
    "In this notebook, we will:\n",
    "- Introduce the framework of the IMDB database that we will be using\n",
    "- Show how we use the Python package `psycopg2` to interact with the database and return desired cardinalities\n",
    "- Demonstrate how random queries can be run locally to query the IMDB database\n",
    "- Execute featurization of a large set of queries and run simple supervised learning routines"
   ]
  },
  {
   "cell_type": "code",
   "execution_count": 22,
   "metadata": {},
   "outputs": [],
   "source": [
    "import pandas as pd\n",
    "import numpy as np\n",
    "import matplotlib.pyplot as plt\n",
    "import psycopg2\n",
    "import os\n",
    "import gc\n",
    "from sklearn.ensemble import RandomForestRegressor\n",
    "import time\n",
    "%matplotlib inline"
   ]
  },
  {
   "cell_type": "markdown",
   "metadata": {},
   "source": [
    "We will need the minima and maxima on the dataset when forming random queries to ensure our predicates fall within an acceptable range."
   ]
  },
  {
   "cell_type": "code",
   "execution_count": 2,
   "metadata": {},
   "outputs": [
    {
     "data": {
      "text/html": [
       "<div>\n",
       "<style scoped>\n",
       "    .dataframe tbody tr th:only-of-type {\n",
       "        vertical-align: middle;\n",
       "    }\n",
       "\n",
       "    .dataframe tbody tr th {\n",
       "        vertical-align: top;\n",
       "    }\n",
       "\n",
       "    .dataframe thead th {\n",
       "        text-align: right;\n",
       "    }\n",
       "</style>\n",
       "<table border=\"1\" class=\"dataframe\">\n",
       "  <thead>\n",
       "    <tr style=\"text-align: right;\">\n",
       "      <th></th>\n",
       "      <th>name</th>\n",
       "      <th>max</th>\n",
       "      <th>min</th>\n",
       "      <th>cardinality</th>\n",
       "      <th>num_unique_values</th>\n",
       "    </tr>\n",
       "  </thead>\n",
       "  <tbody>\n",
       "    <tr>\n",
       "      <th>0</th>\n",
       "      <td>ci.id</td>\n",
       "      <td>63475835</td>\n",
       "      <td>1</td>\n",
       "      <td>63475835</td>\n",
       "      <td>63475835</td>\n",
       "    </tr>\n",
       "    <tr>\n",
       "      <th>1</th>\n",
       "      <td>ci.person_id</td>\n",
       "      <td>6226526</td>\n",
       "      <td>1</td>\n",
       "      <td>63475835</td>\n",
       "      <td>6220909</td>\n",
       "    </tr>\n",
       "    <tr>\n",
       "      <th>2</th>\n",
       "      <td>ci.movie_id</td>\n",
       "      <td>4730032</td>\n",
       "      <td>1</td>\n",
       "      <td>63475835</td>\n",
       "      <td>4238610</td>\n",
       "    </tr>\n",
       "    <tr>\n",
       "      <th>3</th>\n",
       "      <td>ci.person_role_id</td>\n",
       "      <td>4314864</td>\n",
       "      <td>1</td>\n",
       "      <td>29425052</td>\n",
       "      <td>4314865</td>\n",
       "    </tr>\n",
       "    <tr>\n",
       "      <th>4</th>\n",
       "      <td>ci.nr_order</td>\n",
       "      <td>1776839230</td>\n",
       "      <td>-2068070866</td>\n",
       "      <td>17480560</td>\n",
       "      <td>1667</td>\n",
       "    </tr>\n",
       "    <tr>\n",
       "      <th>5</th>\n",
       "      <td>ci.role_id</td>\n",
       "      <td>11</td>\n",
       "      <td>1</td>\n",
       "      <td>63475835</td>\n",
       "      <td>11</td>\n",
       "    </tr>\n",
       "    <tr>\n",
       "      <th>6</th>\n",
       "      <td>t.id</td>\n",
       "      <td>4736509</td>\n",
       "      <td>100000</td>\n",
       "      <td>4636509</td>\n",
       "      <td>4636509</td>\n",
       "    </tr>\n",
       "    <tr>\n",
       "      <th>7</th>\n",
       "      <td>t.kind_id</td>\n",
       "      <td>8</td>\n",
       "      <td>1</td>\n",
       "      <td>4636509</td>\n",
       "      <td>7</td>\n",
       "    </tr>\n",
       "    <tr>\n",
       "      <th>8</th>\n",
       "      <td>t.production_year</td>\n",
       "      <td>2115</td>\n",
       "      <td>1874</td>\n",
       "      <td>4346958</td>\n",
       "      <td>145</td>\n",
       "    </tr>\n",
       "    <tr>\n",
       "      <th>9</th>\n",
       "      <td>t.imdb_id</td>\n",
       "      <td>0</td>\n",
       "      <td>0</td>\n",
       "      <td>0</td>\n",
       "      <td>1</td>\n",
       "    </tr>\n",
       "    <tr>\n",
       "      <th>10</th>\n",
       "      <td>t.episode_of_id</td>\n",
       "      <td>4736509</td>\n",
       "      <td>1780</td>\n",
       "      <td>3051045</td>\n",
       "      <td>98534</td>\n",
       "    </tr>\n",
       "    <tr>\n",
       "      <th>11</th>\n",
       "      <td>t.season_nr</td>\n",
       "      <td>2015</td>\n",
       "      <td>1</td>\n",
       "      <td>2331587</td>\n",
       "      <td>153</td>\n",
       "    </tr>\n",
       "    <tr>\n",
       "      <th>12</th>\n",
       "      <td>t.episode_nr</td>\n",
       "      <td>91334</td>\n",
       "      <td>1</td>\n",
       "      <td>2328776</td>\n",
       "      <td>15144</td>\n",
       "    </tr>\n",
       "    <tr>\n",
       "      <th>13</th>\n",
       "      <td>mc.id</td>\n",
       "      <td>4958296</td>\n",
       "      <td>1</td>\n",
       "      <td>4958296</td>\n",
       "      <td>4958296</td>\n",
       "    </tr>\n",
       "    <tr>\n",
       "      <th>14</th>\n",
       "      <td>mc.movie_id</td>\n",
       "      <td>4698308</td>\n",
       "      <td>2</td>\n",
       "      <td>4958296</td>\n",
       "      <td>2197238</td>\n",
       "    </tr>\n",
       "    <tr>\n",
       "      <th>15</th>\n",
       "      <td>mc.company_id</td>\n",
       "      <td>362131</td>\n",
       "      <td>1</td>\n",
       "      <td>4958296</td>\n",
       "      <td>362131</td>\n",
       "    </tr>\n",
       "    <tr>\n",
       "      <th>16</th>\n",
       "      <td>mc.company_type_id</td>\n",
       "      <td>2</td>\n",
       "      <td>1</td>\n",
       "      <td>4958296</td>\n",
       "      <td>2</td>\n",
       "    </tr>\n",
       "    <tr>\n",
       "      <th>17</th>\n",
       "      <td>mi.id</td>\n",
       "      <td>29774984</td>\n",
       "      <td>1</td>\n",
       "      <td>29774984</td>\n",
       "      <td>29774984</td>\n",
       "    </tr>\n",
       "    <tr>\n",
       "      <th>18</th>\n",
       "      <td>mi.movie_id</td>\n",
       "      <td>4730500</td>\n",
       "      <td>1</td>\n",
       "      <td>29774984</td>\n",
       "      <td>4520418</td>\n",
       "    </tr>\n",
       "    <tr>\n",
       "      <th>19</th>\n",
       "      <td>mi.info_type_id</td>\n",
       "      <td>113</td>\n",
       "      <td>1</td>\n",
       "      <td>29774984</td>\n",
       "      <td>78</td>\n",
       "    </tr>\n",
       "    <tr>\n",
       "      <th>20</th>\n",
       "      <td>ml.id</td>\n",
       "      <td>2585150</td>\n",
       "      <td>1</td>\n",
       "      <td>2585150</td>\n",
       "      <td>2585150</td>\n",
       "    </tr>\n",
       "    <tr>\n",
       "      <th>21</th>\n",
       "      <td>ml.movie_id</td>\n",
       "      <td>4698069</td>\n",
       "      <td>2</td>\n",
       "      <td>2585150</td>\n",
       "      <td>326265</td>\n",
       "    </tr>\n",
       "    <tr>\n",
       "      <th>22</th>\n",
       "      <td>ml.linked_movie_id</td>\n",
       "      <td>4730462</td>\n",
       "      <td>2</td>\n",
       "      <td>2585150</td>\n",
       "      <td>326255</td>\n",
       "    </tr>\n",
       "    <tr>\n",
       "      <th>23</th>\n",
       "      <td>ml.link_type_id</td>\n",
       "      <td>17</td>\n",
       "      <td>1</td>\n",
       "      <td>2585150</td>\n",
       "      <td>16</td>\n",
       "    </tr>\n",
       "    <tr>\n",
       "      <th>24</th>\n",
       "      <td>mk.id</td>\n",
       "      <td>7480087</td>\n",
       "      <td>1</td>\n",
       "      <td>7480087</td>\n",
       "      <td>7480087</td>\n",
       "    </tr>\n",
       "    <tr>\n",
       "      <th>25</th>\n",
       "      <td>mk.movie_id</td>\n",
       "      <td>4730406</td>\n",
       "      <td>2</td>\n",
       "      <td>7480087</td>\n",
       "      <td>728008</td>\n",
       "    </tr>\n",
       "    <tr>\n",
       "      <th>26</th>\n",
       "      <td>mk.keyword_id</td>\n",
       "      <td>236627</td>\n",
       "      <td>1</td>\n",
       "      <td>7480087</td>\n",
       "      <td>236627</td>\n",
       "    </tr>\n",
       "  </tbody>\n",
       "</table>\n",
       "</div>"
      ],
      "text/plain": [
       "                  name         max         min  cardinality  num_unique_values\n",
       "0                ci.id    63475835           1     63475835           63475835\n",
       "1         ci.person_id     6226526           1     63475835            6220909\n",
       "2          ci.movie_id     4730032           1     63475835            4238610\n",
       "3    ci.person_role_id     4314864           1     29425052            4314865\n",
       "4          ci.nr_order  1776839230 -2068070866     17480560               1667\n",
       "5           ci.role_id          11           1     63475835                 11\n",
       "6                 t.id     4736509      100000      4636509            4636509\n",
       "7            t.kind_id           8           1      4636509                  7\n",
       "8    t.production_year        2115        1874      4346958                145\n",
       "9            t.imdb_id           0           0            0                  1\n",
       "10     t.episode_of_id     4736509        1780      3051045              98534\n",
       "11         t.season_nr        2015           1      2331587                153\n",
       "12        t.episode_nr       91334           1      2328776              15144\n",
       "13               mc.id     4958296           1      4958296            4958296\n",
       "14         mc.movie_id     4698308           2      4958296            2197238\n",
       "15       mc.company_id      362131           1      4958296             362131\n",
       "16  mc.company_type_id           2           1      4958296                  2\n",
       "17               mi.id    29774984           1     29774984           29774984\n",
       "18         mi.movie_id     4730500           1     29774984            4520418\n",
       "19     mi.info_type_id         113           1     29774984                 78\n",
       "20               ml.id     2585150           1      2585150            2585150\n",
       "21         ml.movie_id     4698069           2      2585150             326265\n",
       "22  ml.linked_movie_id     4730462           2      2585150             326255\n",
       "23     ml.link_type_id          17           1      2585150                 16\n",
       "24               mk.id     7480087           1      7480087            7480087\n",
       "25         mk.movie_id     4730406           2      7480087             728008\n",
       "26       mk.keyword_id      236627           1      7480087             236627"
      ]
     },
     "execution_count": 2,
     "metadata": {},
     "output_type": "execute_result"
    }
   ],
   "source": [
    "max_min_df = pd.read_csv('imdb_max_min.csv')\n",
    "max_min_df"
   ]
  },
  {
   "cell_type": "markdown",
   "metadata": {},
   "source": [
    "As described in Kipf et. al., we have the following breakdown from IMDB. We are especially interested in five tables from the IMDB that will be used. An attribute in bold will be used in join operations, an italicized attribute will be used in predicates.\n",
    "\n",
    "|movie_companies (mc)||\n",
    "|---|---|\n",
    "|__*movie_id*__|\n",
    "|*company_id*|\n",
    "|*company_type_id*|\n",
    "\n",
    "|title (t)||\n",
    "|---|---|\n",
    "|__*id*__|\n",
    "|*kind_id*|\n",
    "|*production_year*|\n",
    "\n",
    "|cast_info (ci)||\n",
    "|---|---|\n",
    "|__*movie_id*__|\n",
    "|*role_id*|\n",
    "\n",
    "|movie_info (mi)||\n",
    "|---|---|\n",
    "|__*movie_id*__|\n",
    "|*info_type_id*|\n",
    "\n",
    "|movie_keyword (mk)||\n",
    "|---|---|\n",
    "|__*movie_id*__|\n",
    "|*keyword_id*|\n",
    "\n",
    "Based on these five tables, the block below will allow for the enumeration of a large set of join queries on the IMDB."
   ]
  },
  {
   "cell_type": "code",
   "execution_count": 3,
   "metadata": {},
   "outputs": [],
   "source": [
    "poss_tables = np.array(['movie_companies','title','cast_info','movie_keyword','movie_info'])\n",
    "poss_tables_alias = np.array(['mc','t','ci','mk','mi'])\n",
    "poss_joins = np.array(['t.id=mc.movie_id','t.id=ci.movie_id','t.id=mk.movie_id','t.id=mi.movie_id'])\n",
    "poss_preds_cols = np.array(['mc.company_id','mc.company_type_id','t.kind_id','t.production_year',\\\n",
    "                   'ci.role_id','mi.info_type_id','mk.keyword_id','mi.info_type_id'])\n",
    "poss_preds_ops = np.array(['<','>','='])"
   ]
  },
  {
   "cell_type": "markdown",
   "metadata": {},
   "source": [
    "Connect to the local IMDB server using `psycopg2`"
   ]
  },
  {
   "cell_type": "code",
   "execution_count": 4,
   "metadata": {},
   "outputs": [],
   "source": [
    "connection = psycopg2.connect(database='imdb',user='meschw04',\\\n",
    "                              password='password',host='127.0.0.1',port='5432')\n",
    "cur = connection.cursor()"
   ]
  },
  {
   "cell_type": "markdown",
   "metadata": {},
   "source": [
    "Test on a practice query, obtain the resulting cardinality. This query is pulled from the JOB-light benchmark."
   ]
  },
  {
   "cell_type": "code",
   "execution_count": 5,
   "metadata": {},
   "outputs": [
    {
     "name": "stdout",
     "output_type": "stream",
     "text": [
      "SELECT COUNT(*) FROM movie_companies mc,title t,movie_keyword mk WHERE t.id=mc.movie_id AND t.id=mk.movie_id AND mk.keyword_id=117;\n",
      "Test Query Cardinality: 13412\n"
     ]
    }
   ],
   "source": [
    "test_q = 'SELECT COUNT(*) FROM movie_companies mc,title t,movie_keyword mk WHERE '+\\\n",
    "                    't.id=mc.movie_id AND t.id=mk.movie_id AND mk.keyword_id=117;'\n",
    "cur.execute(test_q)\n",
    "cols = cur.fetchall()\n",
    "card = int(cols[0][0])\n",
    "print(test_q)\n",
    "print(f'Test Query Cardinality: {card}')"
   ]
  },
  {
   "cell_type": "markdown",
   "metadata": {},
   "source": [
    "By stitching together tables, joins, and predicates, we are now in a position to generate random queries and determine their cardinality."
   ]
  },
  {
   "cell_type": "code",
   "execution_count": 6,
   "metadata": {},
   "outputs": [],
   "source": [
    "def gen_rand_queries(n_queries):\n",
    "    all_queries_li = []\n",
    "    for j in range(n_queries):\n",
    "        #RANDOM GENERATION OF QUERIES\n",
    "        num_joins = np.random.choice(range(1,4),1)[0]\n",
    "        num_preds = np.random.choice(range(1,5),1)[0]\n",
    "        selected_joins = np.random.choice(poss_joins,num_joins,replace=False)\n",
    "        selected_tables = []\n",
    "        for i in selected_joins:\n",
    "            tb1 = i.split('=')[0]\n",
    "            tb2 = i.split('=')[1]\n",
    "            tb1 = tb1[:tb1.index('.')]\n",
    "            tb2 = tb2[:tb2.index('.')]\n",
    "            selected_tables+=[tb1,tb2]\n",
    "        selected_tables = list(set(selected_tables))\n",
    "        selected_preds = [i for i in poss_preds_cols if i.split('.')[0] in selected_tables]\n",
    "        selected_preds = np.random.choice(selected_preds,min(num_preds,len(selected_preds)),replace=False)\n",
    "\n",
    "        rand_query = f'SELECT COUNT(*) FROM '\n",
    "        rand_query+=', '.join([f'{poss_tables[poss_tables_alias.tolist().index(i)]} {i}' for i in selected_tables])\n",
    "        rand_query+=' WHERE '\n",
    "        rand_query+=' AND '.join(selected_joins)+' AND '\n",
    "        pred_strs = []\n",
    "        for pred in selected_preds:\n",
    "            pred_max_min = max_min_df.loc[max_min_df['name']==pred]\n",
    "            pred_operation = np.random.choice(['<','>','='])\n",
    "            pred_value = np.random.choice(range(int(pred_max_min['min']),\\\n",
    "                                                int(pred_max_min['max'])+1),1)[0]\n",
    "            pred_strs.append(f'{pred} {pred_operation} {pred_value}')\n",
    "        rand_query+=' AND '.join(pred_strs)+';'\n",
    "        all_queries_li.append(rand_query)\n",
    "    return all_queries_li"
   ]
  },
  {
   "cell_type": "code",
   "execution_count": 7,
   "metadata": {},
   "outputs": [
    {
     "name": "stdout",
     "output_type": "stream",
     "text": [
      "SELECT COUNT(*) FROM movie_info mi, title t, movie_keyword mk, movie_companies mc WHERE t.id=mi.movie_id AND t.id=mc.movie_id AND t.id=mk.movie_id AND mk.keyword_id = 61156 AND mc.company_id = 37861 AND mi.info_type_id = 38 AND t.kind_id < 4;\n"
     ]
    }
   ],
   "source": [
    "ex_gen_query = gen_rand_queries(1)\n",
    "print(ex_gen_query[0])"
   ]
  },
  {
   "cell_type": "markdown",
   "metadata": {},
   "source": [
    "The block of code below will generate 5000 random queries on the IMDB, run each query, and iteratively write both the original query and the resulting cardinality. __Only run this if you are ready to lock up your computer for a great deal of time.__"
   ]
  },
  {
   "cell_type": "code",
   "execution_count": 8,
   "metadata": {},
   "outputs": [],
   "source": [
    "###Generate 5000 queries with cardinalities on the IMDB.\n",
    "###WARNING: Do not run unless you really want to query the DB for a long time!\n",
    "\n",
    "#gen_queries = gen_rand_queries(5000)\n",
    "#for q in gen_queries:\n",
    "#    cur.execute(q)\n",
    "#    cols = cur.fetchall()\n",
    "#    print(q,cols[0][0])\n",
    "#    open('imdb_rand_queries.sql','a').write(f'{q}{cols[0][0]}\\n')\n",
    "#    gc.collect()"
   ]
  },
  {
   "cell_type": "markdown",
   "metadata": {},
   "source": [
    "Once all queries have been generated, we read in the resulting file and featurize all queries based on the breakdown of the query tables, join operations, and predicate operations."
   ]
  },
  {
   "cell_type": "code",
   "execution_count": 9,
   "metadata": {},
   "outputs": [],
   "source": [
    "def featurize_sql_query(query):\n",
    "    #COVER TABLES\n",
    "    tables_embedding = np.zeros(len(poss_tables))\n",
    "    for i in range(len(poss_tables)):\n",
    "        if poss_tables[i] in query:\n",
    "            tables_embedding[i]=1\n",
    "    if np.sum(tables_embedding)==0:\n",
    "        raise Exception(f'No tables selected: {query}')\n",
    "    #COVER JOINS\n",
    "    joins_embedding = np.zeros(len(poss_joins))\n",
    "    all_poss_joins = poss_joins.copy().tolist()\n",
    "    for i in poss_joins:\n",
    "        sub=i.split('=')\n",
    "        all_poss_joins.append(f'{sub[1]}={sub[0]}')\n",
    "    for i in range(len(poss_joins)):\n",
    "        if all_poss_joins[i] in query:\n",
    "            joins_embedding[i%3]=1\n",
    "    #COVER PREDICATES\n",
    "    predicates_embedding = np.zeros(len(poss_preds_cols)*3)\n",
    "    preds_search = query.split(' AND ')\n",
    "    for i in range(len(poss_preds_cols)):\n",
    "        for j in preds_search:\n",
    "            if poss_preds_cols[i] in j: #WE HAVE A HIT!\n",
    "                hit = j.replace(';','')\n",
    "                pred_max_min = max_min_df.loc[max_min_df['name']==poss_preds_cols[i]]\n",
    "                idx_place = 3*i\n",
    "                if '<' in hit:\n",
    "                    val = int(hit.split('<')[1])\n",
    "                elif '>' in hit:\n",
    "                    idx_place+=1\n",
    "                    val = int(hit.split('>')[1])\n",
    "                else:\n",
    "                    idx_place+=2\n",
    "                    val = int(hit.split('=')[1])\n",
    "                norm_val = float(val)-float(pred_max_min['min'])\n",
    "                norm_val /= (int(pred_max_min['max'])-int(pred_max_min['min']))\n",
    "                predicates_embedding[idx_place]=norm_val\n",
    "    return tables_embedding,joins_embedding,predicates_embedding"
   ]
  },
  {
   "cell_type": "code",
   "execution_count": 13,
   "metadata": {},
   "outputs": [],
   "source": [
    "def featurize_from_file(filename):\n",
    "    dataset = open(filename,'r').read().split('\\n')\n",
    "    queries_li = []\n",
    "    verbose_li = []\n",
    "    cardinalities_li = []\n",
    "    q_tables_li = []\n",
    "    q_joins_li = []\n",
    "    q_preds_li = []\n",
    "    for i in dataset:\n",
    "        try:\n",
    "            q = i.split(';')[0]+';'\n",
    "            verbose_li.append(q)\n",
    "            t_e, j_e, p_e = featurize_sql_query(q)\n",
    "            queries_li.append(t_e.tolist()+j_e.tolist()+p_e.tolist())\n",
    "            cardinalities_li.append(int(i.split(';')[1]))\n",
    "            q_tables_li.append(t_e)\n",
    "            q_joins_li.append(j_e)\n",
    "            q_preds_li.append(p_e)\n",
    "        except Exception as e:\n",
    "            print(e)\n",
    "            pass\n",
    "    queries_li = np.array(queries_li)\n",
    "    cardinalities_li = np.array(cardinalities_li)\n",
    "    sep_li = [q_tables_li,q_joins_li,q_preds_li]\n",
    "    return queries_li,cardinalities_li,verbose_li,sep_li"
   ]
  },
  {
   "cell_type": "markdown",
   "metadata": {},
   "source": [
    "We have aggregated a large set of queries within `all_train_queries.sql`, and can now read these from disk. Similarly, we have our benchmark set of queries, `job_light.sql`, which we can similarly read from disk and use to benchmark our overall performance for any model."
   ]
  },
  {
   "cell_type": "code",
   "execution_count": 14,
   "metadata": {},
   "outputs": [],
   "source": [
    "train_queries, train_cards, train_verb,train_sep = featurize_from_file('all_train_queries.sql')"
   ]
  },
  {
   "cell_type": "code",
   "execution_count": 19,
   "metadata": {},
   "outputs": [],
   "source": [
    "test_queries, test_cards, test_verb, test_sep = featurize_from_file('job_light.sql')"
   ]
  },
  {
   "cell_type": "markdown",
   "metadata": {},
   "source": [
    "After normalizing over test and training queries, we are ready to train a simple supervised learning algorithm (RFR)."
   ]
  },
  {
   "cell_type": "code",
   "execution_count": 20,
   "metadata": {},
   "outputs": [],
   "source": [
    "max_train_card = max(train_cards)\n",
    "X = train_queries.copy()\n",
    "y = train_cards.copy()/max_train_card"
   ]
  },
  {
   "cell_type": "code",
   "execution_count": 27,
   "metadata": {},
   "outputs": [
    {
     "data": {
      "image/png": "[encoded data removed]",
      "text/plain": [
       "<Figure size 432x288 with 1 Axes>"
      ]
     },
     "metadata": {
      "needs_background": "light"
     },
     "output_type": "display_data"
    }
   ],
   "source": [
    "rfr = RandomForestRegressor().fit(X,y)\n",
    "rfr_out_y = rfr.predict(X)\n",
    "rfr_out_job = rfr.predict(test_queries)*max_train_card\n",
    "plt.figure()\n",
    "plt.scatter(y,rfr_out_y)\n",
    "plt.scatter(test_cards/max_train_card,rfr_out_job/max_train_card)\n",
    "plt.xlim([0,0.01])\n",
    "plt.ylim([0,0.01])\n",
    "plt.plot([0,1],[0,1],color='black')\n",
    "plt.xlabel('Actual')\n",
    "plt.ylabel('Predicted')\n",
    "plt.grid()\n",
    "plt.show()"
   ]
  },
  {
   "cell_type": "code",
   "execution_count": 38,
   "metadata": {},
   "outputs": [
    {
     "name": "stdout",
     "output_type": "stream",
     "text": [
      "Average Cardinality Est. Error: 0.2184%\n"
     ]
    }
   ],
   "source": [
    "print(f'Average Cardinality Est. Error: {round(np.average(abs((rfr_out_job-test_cards)/max_train_card))*100,4)}%')"
   ]
  },
  {
   "cell_type": "markdown",
   "metadata": {},
   "source": [
    "Considering the smaller training set, the accuracy of this model compared to the MSCN from Kipf et. al. is actually nearing a competitive score. This inspires greater confidence that a similarly constructed model may attain greater accuracy in a shorter training time than the currently reported state of the art."
   ]
  }
 ],
 "metadata": {
  "kernelspec": {
   "display_name": "Python 3",
   "language": "python",
   "name": "python3"
  },
  "language_info": {
   "codemirror_mode": {
    "name": "ipython",
    "version": 3
   },
   "file_extension": ".py",
   "mimetype": "text/x-python",
   "name": "python",
   "nbconvert_exporter": "python",
   "pygments_lexer": "ipython3",
   "version": "3.8.3"
  }
 },
 "nbformat": 4,
 "nbformat_minor": 4
}
